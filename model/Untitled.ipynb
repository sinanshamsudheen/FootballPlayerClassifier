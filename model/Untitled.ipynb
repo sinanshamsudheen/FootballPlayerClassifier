{
 "cells": [
  {
   "cell_type": "code",
   "execution_count": null,
   "id": "a155427a-b46a-43ac-b71d-b31768a35bbf",
   "metadata": {},
   "outputs": [],
   "source": [
    "!pip install bing-"
   ]
  }
 ],
 "metadata": {
  "kernelspec": {
   "display_name": "Python 3 (ipykernel)",
   "language": "python",
   "name": "python3"
  },
  "language_info": {
   "codemirror_mode": {
    "name": "ipython",
    "version": 3
   },
   "file_extension": ".py",
   "mimetype": "text/x-python",
   "name": "python",
   "nbconvert_exporter": "python",
   "pygments_lexer": "ipython3",
   "version": "3.10.10"
  }
 },
 "nbformat": 4,
 "nbformat_minor": 5
}
